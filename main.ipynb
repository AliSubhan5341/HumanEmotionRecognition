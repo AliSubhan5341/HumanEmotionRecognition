{
 "cells": [
  {
   "cell_type": "code",
   "execution_count": 1,
   "metadata": {},
   "outputs": [],
   "source": [
    "import tensorflow as tf### models\n",
    "import numpy as np### math computations\n",
    "import matplotlib.pyplot as plt### plotting bar chart\n",
    "import sklearn### machine learning library\n",
    "import cv2## image processing\n",
    "from sklearn.metrics import confusion_matrix, roc_curve### metrics\n",
    "import seaborn as sns### visualizations\n",
    "import datetime\n",
    "import pathlib\n",
    "import io\n",
    "import os\n",
    "import time\n",
    "import random\n",
    "from PIL import Image\n",
    "import albumentations as A\n",
    "import matplotlib.cm as cm\n",
    "from tensorflow.keras.models import Model\n",
    "from tensorflow.keras.layers import Layer\n",
    "from tensorflow.keras.layers import (GlobalAveragePooling2D, Activation, MaxPooling2D, Add, Conv2D, MaxPool2D, Dense,\n",
    "                                     Flatten, InputLayer, BatchNormalization, Input, Embedding, Permute,\n",
    "                                     Dropout, RandomFlip, RandomRotation, LayerNormalization, MultiHeadAttention,\n",
    "                                     RandomContrast, Rescaling, Resizing, Reshape)\n",
    "from tensorflow.keras.losses import BinaryCrossentropy,CategoricalCrossentropy, SparseCategoricalCrossentropy\n",
    "from tensorflow.keras.metrics import Accuracy,TopKCategoricalAccuracy, CategoricalAccuracy, SparseCategoricalAccuracy\n",
    "from tensorflow.keras.optimizers import Adam\n",
    "from tensorflow.keras.callbacks import (Callback, CSVLogger, EarlyStopping, LearningRateScheduler,\n",
    "                                        ModelCheckpoint, ReduceLROnPlateau)\n",
    "from tensorflow.keras.regularizers  import L2, L1\n",
    "from tensorflow.train import BytesList, FloatList, Int64List\n",
    "from tensorflow.train import Example, Features, Feature"
   ]
  },
  {
   "cell_type": "code",
   "execution_count": 2,
   "metadata": {},
   "outputs": [],
   "source": [
    "# !kaggle datasets download -d muhammadhananasghar/human-emotions-datasethes"
   ]
  },
  {
   "cell_type": "code",
   "execution_count": 3,
   "metadata": {},
   "outputs": [],
   "source": [
    "# import zipfile\n",
    "# with zipfile.ZipFile(\"human-emotions-datasethes.zip\", 'r') as zip_ref:\n",
    "#     zip_ref.extractall()"
   ]
  },
  {
   "cell_type": "code",
   "execution_count": 4,
   "metadata": {},
   "outputs": [],
   "source": [
    "CONFIGURATION = {\n",
    "    \"BATCH_SIZE\": 32,\n",
    "    \"IM_SIZE\": 256,\n",
    "    \"LEARNING_RATE\": 1e-3,\n",
    "    \"N_EPOCHS\": 20,\n",
    "    \"DROPOUT_RATE\": 0.0,\n",
    "    \"REGULARIZATION_RATE\": 0.0,\n",
    "    \"N_FILTERS\": 6,\n",
    "    \"KERNEL_SIZE\": 3,\n",
    "    \"N_STRIDES\": 1,\n",
    "    \"POOL_SIZE\": 2,\n",
    "    \"N_DENSE_1\": 1024,\n",
    "    \"N_DENSE_2\": 128,\n",
    "    \"NUM_CLASSES\": 3,\n",
    "    \"PATCH_SIZE\": 16,\n",
    "    \"PROJ_DIM\": 768,\n",
    "    \"CLASS_NAMES\": [\"angry\", \"happy\", \"sad\"],\n",
    "}"
   ]
  },
  {
   "cell_type": "code",
   "execution_count": 5,
   "metadata": {},
   "outputs": [],
   "source": [
    "train_dir=\"c:/Users/alisu/Desktop/ML/Human Emotion Detection/Emotions Dataset/Emotions Dataset/train\"\n",
    "val_dir=\"c:/Users/alisu/Desktop/ML/Human Emotion Detection/Emotions Dataset/Emotions Dataset/test\""
   ]
  },
  {
   "cell_type": "code",
   "execution_count": 6,
   "metadata": {},
   "outputs": [
    {
     "name": "stdout",
     "output_type": "stream",
     "text": [
      "Class names: ['angry', 'happy', 'sad']\n"
     ]
    }
   ],
   "source": [
    "# Class Names\n",
    "import os\n",
    "\n",
    "def get_folder_names(directory):\n",
    "    folder_names = []\n",
    "    \n",
    "    for item in os.listdir(directory):\n",
    "        item_path = os.path.join(directory, item)\n",
    "        if os.path.isdir(item_path):\n",
    "            folder_names.append(item)\n",
    "    \n",
    "    return folder_names\n",
    "\n",
    "# Replace 'path_to_your_directory' with the actual path of the directory you want to search\n",
    "directory_path = train_dir\n",
    "CLASS_NAMES = get_folder_names(directory_path)\n",
    "\n",
    "print(\"Class names:\", CLASS_NAMES)\n"
   ]
  },
  {
   "cell_type": "code",
   "execution_count": 7,
   "metadata": {},
   "outputs": [
    {
     "name": "stdout",
     "output_type": "stream",
     "text": [
      "Found 6799 files belonging to 3 classes.\n"
     ]
    }
   ],
   "source": [
    "train_data= tf.keras.utils.image_dataset_from_directory(\n",
    "    train_dir,\n",
    "    labels='inferred',\n",
    "    label_mode='categorical',\n",
    "    class_names=CLASS_NAMES,\n",
    "    color_mode='rgb',\n",
    "    batch_size=32,\n",
    "    image_size=(256, 256),\n",
    "    shuffle=True,\n",
    "    seed=42\n",
    ")"
   ]
  },
  {
   "cell_type": "code",
   "execution_count": 8,
   "metadata": {},
   "outputs": [
    {
     "name": "stdout",
     "output_type": "stream",
     "text": [
      "Found 2278 files belonging to 3 classes.\n"
     ]
    }
   ],
   "source": [
    "val_data= tf.keras.utils.image_dataset_from_directory(\n",
    "    val_dir,\n",
    "    labels='inferred',\n",
    "    label_mode='categorical',\n",
    "    class_names=CLASS_NAMES,\n",
    "    color_mode='rgb',\n",
    "    batch_size=32,\n",
    "    image_size=(256, 256),\n",
    "    shuffle=True,\n",
    "    seed=42\n",
    ")"
   ]
  },
  {
   "cell_type": "code",
   "execution_count": 38,
   "metadata": {},
   "outputs": [],
   "source": [
    "# for i in val_data.take(1):\n",
    "#     print(i)"
   ]
  },
  {
   "cell_type": "code",
   "execution_count": 10,
   "metadata": {},
   "outputs": [],
   "source": [
    "# class_names = CLASS_NAMES\n",
    "\n",
    "# # Take the first batch from the dataset\n",
    "# for images, labels in train_data.take(1):\n",
    "#     # Plot the images and their class names\n",
    "#     plt.figure(figsize=(10, 10))\n",
    "#     for i in range(16):\n",
    "#         plt.subplot(4, 4, i + 1)\n",
    "#         plt.imshow(images[i].numpy().astype(\"uint8\"))\n",
    "#         plt.title(class_names[labels[i]])\n",
    "#         plt.axis(\"off\")\n",
    "    \n",
    "#     plt.show()"
   ]
  },
  {
   "cell_type": "code",
   "execution_count": 11,
   "metadata": {},
   "outputs": [],
   "source": [
    "training_data = (\n",
    "train_data\n",
    ".prefetch(tf.data.AUTOTUNE)\n",
    ")"
   ]
  },
  {
   "cell_type": "code",
   "execution_count": 12,
   "metadata": {},
   "outputs": [],
   "source": [
    "validation_data = (\n",
    "val_data\n",
    ".prefetch(tf.data.AUTOTUNE)\n",
    ")"
   ]
  },
  {
   "cell_type": "code",
   "execution_count": 13,
   "metadata": {},
   "outputs": [],
   "source": [
    "resize_rescale_layers = tf.keras.Sequential([\n",
    "       Resizing(CONFIGURATION['IM_SIZE'], CONFIGURATION['IM_SIZE']),\n",
    "       Rescaling(1./255),                               \n",
    "])"
   ]
  },
  {
   "cell_type": "code",
   "execution_count": 14,
   "metadata": {},
   "outputs": [
    {
     "name": "stdout",
     "output_type": "stream",
     "text": [
      "Model: \"sequential_1\"\n",
      "_________________________________________________________________\n",
      " Layer (type)                Output Shape              Param #   \n",
      "=================================================================\n",
      " sequential (Sequential)     (None, 256, 256, 3)       0         \n",
      "                                                                 \n",
      " conv2d (Conv2D)             (None, 254, 254, 6)       168       \n",
      "                                                                 \n",
      " batch_normalization (BatchN  (None, 254, 254, 6)      24        \n",
      " ormalization)                                                   \n",
      "                                                                 \n",
      " max_pooling2d (MaxPooling2D  (None, 127, 127, 6)      0         \n",
      " )                                                               \n",
      "                                                                 \n",
      " dropout (Dropout)           (None, 127, 127, 6)       0         \n",
      "                                                                 \n",
      " conv2d_1 (Conv2D)           (None, 125, 125, 16)      880       \n",
      "                                                                 \n",
      " batch_normalization_1 (Batc  (None, 125, 125, 16)     64        \n",
      " hNormalization)                                                 \n",
      "                                                                 \n",
      " max_pooling2d_1 (MaxPooling  (None, 62, 62, 16)       0         \n",
      " 2D)                                                             \n",
      "                                                                 \n",
      " flatten (Flatten)           (None, 61504)             0         \n",
      "                                                                 \n",
      " dense (Dense)               (None, 1024)              62981120  \n",
      "                                                                 \n",
      " batch_normalization_2 (Batc  (None, 1024)             4096      \n",
      " hNormalization)                                                 \n",
      "                                                                 \n",
      " dropout_1 (Dropout)         (None, 1024)              0         \n",
      "                                                                 \n",
      " dense_1 (Dense)             (None, 128)               131200    \n",
      "                                                                 \n",
      " batch_normalization_3 (Batc  (None, 128)              512       \n",
      " hNormalization)                                                 \n",
      "                                                                 \n",
      " dense_2 (Dense)             (None, 3)                 387       \n",
      "                                                                 \n",
      "=================================================================\n",
      "Total params: 63,118,451\n",
      "Trainable params: 63,116,103\n",
      "Non-trainable params: 2,348\n",
      "_________________________________________________________________\n"
     ]
    }
   ],
   "source": [
    "lenet_model = tf.keras.Sequential(\n",
    "    [\n",
    "    InputLayer(input_shape = (None, None, 3), ),\n",
    "    \n",
    "    resize_rescale_layers,\n",
    "    \n",
    "    Conv2D(filters = CONFIGURATION[\"N_FILTERS\"] , kernel_size = CONFIGURATION[\"KERNEL_SIZE\"], strides = CONFIGURATION[\"N_STRIDES\"] , padding='valid',\n",
    "          activation = 'relu',kernel_regularizer = L2(CONFIGURATION[\"REGULARIZATION_RATE\"])),\n",
    "    BatchNormalization(),\n",
    "    MaxPool2D (pool_size = CONFIGURATION[\"POOL_SIZE\"], strides= CONFIGURATION[\"N_STRIDES\"]*2),\n",
    "    Dropout(rate = CONFIGURATION[\"DROPOUT_RATE\"] ),\n",
    "\n",
    "    Conv2D(filters = CONFIGURATION[\"N_FILTERS\"]*2 + 4, kernel_size = CONFIGURATION[\"KERNEL_SIZE\"], strides=CONFIGURATION[\"N_STRIDES\"], padding='valid',\n",
    "          activation = 'relu', kernel_regularizer = L2(CONFIGURATION[\"REGULARIZATION_RATE\"])),\n",
    "    BatchNormalization(),\n",
    "    MaxPool2D (pool_size = CONFIGURATION[\"POOL_SIZE\"], strides= CONFIGURATION[\"N_STRIDES\"]*2),\n",
    "\n",
    "    Flatten(),\n",
    "    \n",
    "    Dense( CONFIGURATION[\"N_DENSE_1\"], activation = \"relu\", kernel_regularizer = L2(CONFIGURATION[\"REGULARIZATION_RATE\"])),\n",
    "    BatchNormalization(),\n",
    "    Dropout(rate = CONFIGURATION[\"DROPOUT_RATE\"]),\n",
    "    \n",
    "    Dense( CONFIGURATION['N_DENSE_2'], activation = \"relu\", kernel_regularizer = L2(CONFIGURATION[\"REGULARIZATION_RATE\"])),\n",
    "    BatchNormalization(),\n",
    "\n",
    "    Dense(CONFIGURATION[\"NUM_CLASSES\"], activation = \"softmax\"),\n",
    "\n",
    "])\n",
    "\n",
    "lenet_model.summary()"
   ]
  },
  {
   "cell_type": "code",
   "execution_count": 15,
   "metadata": {},
   "outputs": [],
   "source": [
    "loss_function = CategoricalCrossentropy()"
   ]
  },
  {
   "cell_type": "code",
   "execution_count": 16,
   "metadata": {},
   "outputs": [],
   "source": [
    "metrics = [CategoricalAccuracy(name = \"accuracy\"), TopKCategoricalAccuracy(k=2, name = \"top_k_accuracy\")]"
   ]
  },
  {
   "cell_type": "code",
   "execution_count": 17,
   "metadata": {},
   "outputs": [],
   "source": [
    "lenet_model.compile(\n",
    "  optimizer = Adam(learning_rate = CONFIGURATION[\"LEARNING_RATE\"]),\n",
    "  loss = loss_function,\n",
    "  metrics = metrics,\n",
    ")"
   ]
  },
  {
   "cell_type": "code",
   "execution_count": 25,
   "metadata": {},
   "outputs": [
    {
     "name": "stdout",
     "output_type": "stream",
     "text": [
      "Epoch 1/20\n"
     ]
    },
    {
     "name": "stdout",
     "output_type": "stream",
     "text": [
      "213/213 [==============================] - 16s 72ms/step - loss: 0.0573 - accuracy: 0.9753 - top_k_accuracy: 0.9987 - val_loss: 1.1989 - val_accuracy: 0.7151 - val_top_k_accuracy: 0.8924\n",
      "Epoch 2/20\n",
      "213/213 [==============================] - 15s 72ms/step - loss: 0.0564 - accuracy: 0.9748 - top_k_accuracy: 0.9979 - val_loss: 1.1750 - val_accuracy: 0.7375 - val_top_k_accuracy: 0.8986\n",
      "Epoch 3/20\n",
      "213/213 [==============================] - 15s 72ms/step - loss: 0.0735 - accuracy: 0.9696 - top_k_accuracy: 0.9981 - val_loss: 1.2364 - val_accuracy: 0.7261 - val_top_k_accuracy: 0.8999\n",
      "Epoch 4/20\n",
      "213/213 [==============================] - 15s 72ms/step - loss: 0.0661 - accuracy: 0.9721 - top_k_accuracy: 0.9979 - val_loss: 1.1680 - val_accuracy: 0.7476 - val_top_k_accuracy: 0.9047\n",
      "Epoch 5/20\n",
      "213/213 [==============================] - 16s 73ms/step - loss: 0.0529 - accuracy: 0.9746 - top_k_accuracy: 0.9984 - val_loss: 1.2026 - val_accuracy: 0.7384 - val_top_k_accuracy: 0.9056\n",
      "Epoch 6/20\n",
      "213/213 [==============================] - 15s 71ms/step - loss: 0.0730 - accuracy: 0.9690 - top_k_accuracy: 0.9975 - val_loss: 1.2620 - val_accuracy: 0.7423 - val_top_k_accuracy: 0.8982\n",
      "Epoch 7/20\n",
      "213/213 [==============================] - 15s 71ms/step - loss: 0.0518 - accuracy: 0.9750 - top_k_accuracy: 0.9981 - val_loss: 1.1460 - val_accuracy: 0.7480 - val_top_k_accuracy: 0.9004\n",
      "Epoch 8/20\n",
      "213/213 [==============================] - 15s 71ms/step - loss: 0.0486 - accuracy: 0.9785 - top_k_accuracy: 0.9987 - val_loss: 1.2246 - val_accuracy: 0.7463 - val_top_k_accuracy: 0.9030\n",
      "Epoch 9/20\n",
      "213/213 [==============================] - 15s 71ms/step - loss: 0.0557 - accuracy: 0.9744 - top_k_accuracy: 0.9987 - val_loss: 1.1462 - val_accuracy: 0.7656 - val_top_k_accuracy: 0.9113\n",
      "Epoch 10/20\n",
      "213/213 [==============================] - 15s 72ms/step - loss: 0.0449 - accuracy: 0.9791 - top_k_accuracy: 0.9988 - val_loss: 1.1570 - val_accuracy: 0.7476 - val_top_k_accuracy: 0.9096\n",
      "Epoch 11/20\n",
      "213/213 [==============================] - 15s 72ms/step - loss: 0.0480 - accuracy: 0.9797 - top_k_accuracy: 0.9985 - val_loss: 1.0903 - val_accuracy: 0.7577 - val_top_k_accuracy: 0.9061\n",
      "Epoch 12/20\n",
      "213/213 [==============================] - 15s 72ms/step - loss: 0.0519 - accuracy: 0.9762 - top_k_accuracy: 0.9985 - val_loss: 1.2094 - val_accuracy: 0.7599 - val_top_k_accuracy: 0.9078\n",
      "Epoch 13/20\n",
      "213/213 [==============================] - 15s 72ms/step - loss: 0.0444 - accuracy: 0.9776 - top_k_accuracy: 0.9988 - val_loss: 1.1885 - val_accuracy: 0.7572 - val_top_k_accuracy: 0.9074\n",
      "Epoch 14/20\n",
      "213/213 [==============================] - 15s 71ms/step - loss: 0.0378 - accuracy: 0.9798 - top_k_accuracy: 0.9985 - val_loss: 1.3563 - val_accuracy: 0.7450 - val_top_k_accuracy: 0.9087\n",
      "Epoch 15/20\n",
      "213/213 [==============================] - 15s 72ms/step - loss: 0.0400 - accuracy: 0.9798 - top_k_accuracy: 0.9991 - val_loss: 1.2113 - val_accuracy: 0.7401 - val_top_k_accuracy: 0.9069\n",
      "Epoch 16/20\n",
      "213/213 [==============================] - 15s 71ms/step - loss: 0.0516 - accuracy: 0.9772 - top_k_accuracy: 0.9984 - val_loss: 1.4235 - val_accuracy: 0.7335 - val_top_k_accuracy: 0.8938\n",
      "Epoch 17/20\n",
      "213/213 [==============================] - 16s 73ms/step - loss: 0.0598 - accuracy: 0.9737 - top_k_accuracy: 0.9971 - val_loss: 1.2521 - val_accuracy: 0.7498 - val_top_k_accuracy: 0.9052\n",
      "Epoch 18/20\n",
      "213/213 [==============================] - 16s 73ms/step - loss: 0.0441 - accuracy: 0.9797 - top_k_accuracy: 0.9988 - val_loss: 1.1877 - val_accuracy: 0.7476 - val_top_k_accuracy: 0.9025\n",
      "Epoch 19/20\n",
      "213/213 [==============================] - 15s 72ms/step - loss: 0.0421 - accuracy: 0.9785 - top_k_accuracy: 0.9991 - val_loss: 1.1915 - val_accuracy: 0.7384 - val_top_k_accuracy: 0.9104\n",
      "Epoch 20/20\n",
      "213/213 [==============================] - 16s 73ms/step - loss: 0.0448 - accuracy: 0.9800 - top_k_accuracy: 0.9990 - val_loss: 1.1416 - val_accuracy: 0.7419 - val_top_k_accuracy: 0.9122\n"
     ]
    }
   ],
   "source": [
    "history = lenet_model.fit(\n",
    "  training_data,\n",
    "  validation_data = validation_data,\n",
    "  epochs = CONFIGURATION[\"N_EPOCHS\"],\n",
    "  verbose = 1,\n",
    "  #class_weight = class_weights,\n",
    "  #callbacks = [WandbCallback(), LogConfMatrix(), LogResultsTable()]\n",
    ")"
   ]
  },
  {
   "cell_type": "code",
   "execution_count": 27,
   "metadata": {},
   "outputs": [
    {
     "data": {
      "image/png": "[encoded data removed]",
      "text/plain": [
       "<Figure size 640x480 with 1 Axes>"
      ]
     },
     "metadata": {},
     "output_type": "display_data"
    }
   ],
   "source": [
    "plt.plot(history.history['loss'])\n",
    "plt.plot(history.history['val_loss'])\n",
    "plt.title('Model loss')\n",
    "plt.ylabel('loss')\n",
    "plt.xlabel('epoch')\n",
    "plt.legend(['train_loss', 'val_loss'])\n",
    "plt.show()"
   ]
  },
  {
   "cell_type": "code",
   "execution_count": 28,
   "metadata": {},
   "outputs": [
    {
     "data": {
      "image/png": "[encoded data removed]",
      "text/plain": [
       "<Figure size 640x480 with 1 Axes>"
      ]
     },
     "metadata": {},
     "output_type": "display_data"
    }
   ],
   "source": [
    "plt.plot(history.history['accuracy'])\n",
    "plt.plot(history.history['val_accuracy'])\n",
    "plt.title('Model accuracy')\n",
    "plt.ylabel('accuracy')\n",
    "plt.xlabel('epoch')\n",
    "plt.legend(['train_accuracy', 'val_accuracy'])\n",
    "plt.show()"
   ]
  },
  {
   "cell_type": "code",
   "execution_count": 29,
   "metadata": {},
   "outputs": [
    {
     "name": "stdout",
     "output_type": "stream",
     "text": [
      "72/72 [==============================] - 2s 24ms/step - loss: 1.1416 - accuracy: 0.7419 - top_k_accuracy: 0.9122\n"
     ]
    },
    {
     "data": {
      "text/plain": [
       "[1.1416243314743042, 0.741878867149353, 0.9122036695480347]"
      ]
     },
     "execution_count": 29,
     "metadata": {},
     "output_type": "execute_result"
    }
   ],
   "source": [
    "lenet_model.evaluate(validation_data)"
   ]
  },
  {
   "cell_type": "code",
   "execution_count": 41,
   "metadata": {},
   "outputs": [
    {
     "name": "stdout",
     "output_type": "stream",
     "text": [
      "tf.Tensor([[3.586389e-07 7.948175e-05 9.999201e-01]], shape=(1, 3), dtype=float32)\n",
      "sad\n"
     ]
    }
   ],
   "source": [
    "test_image = cv2.imread(\"c:/Users/alisu/Desktop/ML/Human Emotion Detection/Emotions Dataset/Emotions Dataset/test/sad/35028.jpg\")\n",
    "im = tf.constant(test_image, dtype = tf.float32)\n",
    "im = tf.expand_dims(im, axis = 0)\n",
    "print(lenet_model(im))\n",
    "print(CONFIGURATION['CLASS_NAMES'][tf.argmax(lenet_model(im), axis = -1).numpy()[0]])"
   ]
  },
  {
   "cell_type": "code",
   "execution_count": 39,
   "metadata": {},
   "outputs": [],
   "source": [
    "# plt.figure(figsize = (12,12))\n",
    "\n",
    "# for images, labels in validation_data.take(1):\n",
    "#   for i in range(16):\n",
    "#     ax = plt.subplot(4,4, i+1)\n",
    "#     plt.imshow(images[i]/255.)\n",
    "\n",
    "#     plt.title(\"True Label - : \" + CONFIGURATION[\"CLASS_NAMES\"][tf.argmax(labels[i], axis = -1).numpy()] \n",
    "#               + \"\\n\" + \"Predicted Label - : \" \n",
    "#               + CONFIGURATION[\"CLASS_NAMES\"][int(tf.argmax(lenet_model(tf.expand_dims(images[i], axis = 0)), axis =-1).numpy()[0])] )\n",
    "#     plt.axis(\"off\")\n"
   ]
  },
  {
   "cell_type": "code",
   "execution_count": 43,
   "metadata": {},
   "outputs": [],
   "source": [
    "predicted = []\n",
    "labels = []\n",
    "\n",
    "for im, label in validation_data:\n",
    "  predicted.append(lenet_model(im))\n",
    "  labels.append(label.numpy())"
   ]
  },
  {
   "cell_type": "code",
   "execution_count": 45,
   "metadata": {},
   "outputs": [
    {
     "data": {
      "image/png": "[encoded data removed]",
      "text/plain": [
       "<Figure size 800x600 with 1 Axes>"
      ]
     },
     "metadata": {},
     "output_type": "display_data"
    }
   ],
   "source": [
    "import numpy as np\n",
    "import seaborn as sns\n",
    "import matplotlib.pyplot as plt\n",
    "from sklearn.metrics import confusion_matrix\n",
    "\n",
    "# Assuming you have true labels and predicted labels\n",
    "true_labels = np.concatenate([np.argmax(labels[:-1], axis = -1).flatten(), np.argmax(labels[-1], axis = -1).flatten()])\n",
    "predicted_labels = np.concatenate([np.argmax(predicted[:-1], axis = -1).flatten(), np.argmax(predicted[-1], axis = -1).flatten()])\n",
    "\n",
    "# Calculate the confusion matrix\n",
    "confusion_mat = confusion_matrix(true_labels, predicted_labels)\n",
    "\n",
    "# Plot the confusion matrix using Seaborn\n",
    "plt.figure(figsize=(8, 6))\n",
    "sns.set(font_scale=1.2)  # Adjust font scale for readability\n",
    "\n",
    "# Create a heatmap of the confusion matrix\n",
    "sns.heatmap(confusion_mat, annot=True, fmt='d', cmap='Blues', cbar=False,\n",
    "            xticklabels=CLASS_NAMES, yticklabels=CLASS_NAMES)\n",
    "\n",
    "# Add labels and title\n",
    "plt.xlabel('Predicted Labels')\n",
    "plt.ylabel('True Labels')\n",
    "plt.title('Confusion Matrix')\n",
    "\n",
    "# Show the plot\n",
    "plt.show()\n"
   ]
  },
  {
   "cell_type": "code",
   "execution_count": null,
   "metadata": {},
   "outputs": [],
   "source": []
  }
 ],
 "metadata": {
  "kernelspec": {
   "display_name": "myenv",
   "language": "python",
   "name": "python3"
  },
  "language_info": {
   "codemirror_mode": {
    "name": "ipython",
    "version": 3
   },
   "file_extension": ".py",
   "mimetype": "text/x-python",
   "name": "python",
   "nbconvert_exporter": "python",
   "pygments_lexer": "ipython3",
   "version": "3.9.17"
  },
  "orig_nbformat": 4
 },
 "nbformat": 4,
 "nbformat_minor": 2
}
